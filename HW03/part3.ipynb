{
 "cells": [
  {
   "cell_type": "markdown",
   "metadata": {},
   "source": [
    "Perfect way to show the index that equals to its value, is using Binary search<br>\n",
    "If we use Binary search then we will be able to achive our goal.<br>\n",
    "\n",
    "First we check whether middle element is the index we're looking for or not. If it is, then<br>\n",
    "return it; otherwise check whether index of middle element is greater than value at the index.<br>\n",
    "If index is greater, then our index is in the right side of the middle point. Else the index we're<br>\n",
    "looking for is in the left side."
   ]
  },
  {
   "cell_type": "code",
   "execution_count": 3,
   "metadata": {},
   "outputs": [],
   "source": [
    "def question3(arr, low, high):\n",
    "\n",
    "    if high >= low: \n",
    "        mid = (high+low)//2\n",
    "    \n",
    "        if mid == arr[mid]: \n",
    "            return mid \n",
    "          \n",
    "        if mid > arr[mid]: \n",
    "            return question3(arr, (mid+1), high) \n",
    "        else: \n",
    "            return question3(arr, low, (mid-1))\n",
    "\n",
    "    return -1\n"
   ]
  },
  {
   "cell_type": "code",
   "execution_count": 4,
   "metadata": {},
   "outputs": [
    {
     "name": "stdout",
     "output_type": "stream",
     "text": [
      "0\n"
     ]
    }
   ],
   "source": [
    "arr = [0, 2, 5, 8, 17]\n",
    "\n",
    "print(question3(arr, 0, len(arr)))"
   ]
  }
 ],
 "metadata": {
  "kernelspec": {
   "display_name": "Python 3",
   "language": "python",
   "name": "python3"
  },
  "language_info": {
   "codemirror_mode": {
    "name": "ipython",
    "version": 3
   },
   "file_extension": ".py",
   "mimetype": "text/x-python",
   "name": "python",
   "nbconvert_exporter": "python",
   "pygments_lexer": "ipython3",
   "version": "3.6.6"
  }
 },
 "nbformat": 4,
 "nbformat_minor": 2
}
