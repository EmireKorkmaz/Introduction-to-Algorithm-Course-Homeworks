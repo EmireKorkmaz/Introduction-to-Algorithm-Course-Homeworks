{
 "cells": [
  {
   "cell_type": "markdown",
   "metadata": {},
   "source": [
    "This function randomly chooses the player who starts the game and also wins the game.<br>\n",
    "If player2 starts the game then player2 will win the game, if player1 starts the game, player1 wins the game."
   ]
  },
  {
   "cell_type": "code",
   "execution_count": 1,
   "metadata": {},
   "outputs": [],
   "source": [
    "from random import randint\n",
    "\n",
    "def func(chips, turn, m, starter):\n",
    "    if(chips>0):        \n",
    "        seconder = 1 if starter==2 else 2\n",
    "        if(chips <= m+1 and turn==seconder):\n",
    "            rand = randint(1, m-1)\n",
    "            chips = chips - rand\n",
    "            turn = 1 if turn==2 else 2\n",
    "            func(chips, turn, m, starter)\n",
    "        elif(chips <= m+1 and turn==starter):\n",
    "            chips = chips - m\n",
    "            print (\"There are no more piles. Player\"+str(starter)+\" has won!\")\n",
    "        else:\n",
    "            turn = 1 if turn==2 else 2\n",
    "            rand = randint(1, m)\n",
    "            chips = chips - rand\n",
    "            func(chips, turn, m, starter)\n"
   ]
  },
  {
   "cell_type": "code",
   "execution_count": 2,
   "metadata": {},
   "outputs": [],
   "source": [
    "def question2(chips, starter, m):\n",
    "    \n",
    "    string= \"Player\"+str(starter)+\" has started to the game with \"+str(chips)+\" chips\"\n",
    "    print(string)\n",
    "    func(chips, starter, m, starter)"
   ]
  },
  {
   "cell_type": "markdown",
   "metadata": {},
   "source": [
    "<strong> chips : </strong> number of chips <br>\n",
    "<strong> m : </strong> number of maximum chips that can be taken.<br>\n",
    "<strong> starter : </strong> player who starts first is selected randomly"
   ]
  },
  {
   "cell_type": "code",
   "execution_count": 4,
   "metadata": {},
   "outputs": [
    {
     "name": "stdout",
     "output_type": "stream",
     "text": [
      "Player1 has started to the game with 90 chips\n",
      "There are no more piles. Player1 has won!\n"
     ]
    }
   ],
   "source": [
    "chips = 90\n",
    "starter = randint(1,2)\n",
    "m = 4\n",
    "\n",
    "question2(chips, starter, m)"
   ]
  }
 ],
 "metadata": {
  "kernelspec": {
   "display_name": "Python 3",
   "language": "python",
   "name": "python3"
  },
  "language_info": {
   "codemirror_mode": {
    "name": "ipython",
    "version": 3
   },
   "file_extension": ".py",
   "mimetype": "text/x-python",
   "name": "python",
   "nbconvert_exporter": "python",
   "pygments_lexer": "ipython3",
   "version": "3.6.6"
  }
 },
 "nbformat": 4,
 "nbformat_minor": 2
}
