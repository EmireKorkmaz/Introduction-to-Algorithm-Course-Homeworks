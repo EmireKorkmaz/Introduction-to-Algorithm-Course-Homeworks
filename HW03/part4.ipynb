{
 "cells": [
  {
   "cell_type": "markdown",
   "metadata": {},
   "source": [
    "In order to implement BFS and DFS, firstly we need to create a class that holds graph nodes. In order to hold graph nodes,<br>\n",
    "I used defaultdict from collections in Python. With this dictionary, now, I'm able to link the nodes which are neighbors.<br>\n",
    "First of all, we add our nodes with edges that link out node to another node. After adding all nodes with their neighbors,<br>\n",
    "we can traverse the graph. Both in BFS and DFS, i created a list which is called 'visited' to see which node<br>\n",
    "has been visited or not while traversing the graph. In the beginning none of nodes have been visite, because of this,<br>\n",
    "i initialized all elements to False. Whenever i visit a node i set that index to True and printed it on the screen.<br>"
   ]
  },
  {
   "cell_type": "code",
   "execution_count": 37,
   "metadata": {},
   "outputs": [],
   "source": [
    "def sum(arr):\n",
    "    if(len(arr)==0):\n",
    "        return 0\n",
    "    else:\n",
    "        temp = arr[0]\n",
    "        arr.pop(0)\n",
    "        return temp+sum(arr)"
   ]
  },
  {
   "cell_type": "code",
   "execution_count": 38,
   "metadata": {},
   "outputs": [],
   "source": [
    "def question4(arr):\n",
    "    max=0\n",
    "    left=0\n",
    "    right=0\n",
    "    j=len(arr)\n",
    "    if(len(arr)>0):\n",
    "        for i in range(len(arr)):\n",
    "            summation = sum(arr[:j])\n",
    "            \n",
    "            if (max < summation):\n",
    "                max = summation\n",
    "                left=i\n",
    "                right=j\n",
    "            j=j-1\n",
    "        question4(arr[1:])\n",
    "    maximum = max\n",
    "\n",
    "    return maximum, left, right"
   ]
  },
  {
   "cell_type": "code",
   "execution_count": 39,
   "metadata": {},
   "outputs": [],
   "source": [
    "def func(arr):\n",
    "    maxi, left, right = question4(arr)\n",
    "    total = 0\n",
    "    j=0\n",
    "    array = [None]*len(arr)\n",
    "    for i in range(len(arr)):\n",
    "        if( i>= left and i<right):\n",
    "            total = total + arr[i]\n",
    "            array[j]=arr[i]\n",
    "            j=j+1\n",
    "    print(arr[0:j])\n",
    "    print(total)"
   ]
  },
  {
   "cell_type": "code",
   "execution_count": 40,
   "metadata": {},
   "outputs": [
    {
     "name": "stdout",
     "output_type": "stream",
     "text": [
      "[5, -6, 6, 7]\n",
      "14\n"
     ]
    }
   ],
   "source": [
    "arr = [5, -6, 6, 7, -6, 7, -4, 3]\n",
    "\n",
    "func(arr)"
   ]
  },
  {
   "cell_type": "code",
   "execution_count": null,
   "metadata": {},
   "outputs": [],
   "source": []
  }
 ],
 "metadata": {
  "kernelspec": {
   "display_name": "Python 3",
   "language": "python",
   "name": "python3"
  },
  "language_info": {
   "codemirror_mode": {
    "name": "ipython",
    "version": 3
   },
   "file_extension": ".py",
   "mimetype": "text/x-python",
   "name": "python",
   "nbconvert_exporter": "python",
   "pygments_lexer": "ipython3",
   "version": "3.6.6"
  }
 },
 "nbformat": 4,
 "nbformat_minor": 2
}
