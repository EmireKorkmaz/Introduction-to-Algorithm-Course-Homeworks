{
 "cells": [
  {
   "cell_type": "markdown",
   "metadata": {},
   "source": [
    "In order to implement BFS and DFS, firstly we need to create a class that holds graph nodes. In order to hold graph nodes,<br>\n",
    "I used defaultdict from collections in Python. With this dictionary, now, I'm able to link the nodes which are neighbors.<br>\n",
    "First of all, we add our nodes with edges that link out node to another node. After adding all nodes with their neighbors,<br>\n",
    "we can traverse the graph. Both in BFS and DFS, i created a list which is called 'visited' to see which node<br>\n",
    "has been visited or not while traversing the graph. In the beginning none of nodes have been visite, because of this,<br>\n",
    "i initialized all elements to False. Whenever i visit a node i set that index to True and printed it on the screen.<br>"
   ]
  },
  {
   "cell_type": "code",
   "execution_count": 20,
   "metadata": {},
   "outputs": [],
   "source": [
    "import pandas as pd"
   ]
  },
  {
   "cell_type": "code",
   "execution_count": 35,
   "metadata": {},
   "outputs": [],
   "source": [
    "from collections import defaultdict \n",
    "class myGraph: \n",
    "\n",
    "    def __init__(self):\n",
    "        self.graph = defaultdict(list)\n",
    "  \n",
    "    def addEdge(self,node,neighbor): \n",
    "        self.graph[node].append(neighbor) \n",
    "  \n",
    "    def traverseDFS(self,node,visited): \n",
    "  \n",
    "        visited[node]= True\n",
    "        print (node)\n",
    "  \n",
    "        for i in self.graph[node]: \n",
    "            if visited[i] == False: \n",
    "                self.traverseDFS(i, visited) \n",
    "  \n",
    "\n",
    "    def DFS(self,root):     \n",
    "        length=(len (self.graph))\n",
    "\n",
    "        visited = [False]*(length+1)\n",
    "\n",
    "        self.traverseDFS(root,visited) \n",
    "\n",
    "\n",
    "    def traverseBFS(self, q, visited,s):\n",
    "        if q:\n",
    "            print(q.pop(0))\n",
    "            for i in self.graph[s]: \n",
    "                    if visited[i] == False: \n",
    "                        q.insert(0, i) \n",
    "                        visited[i] = True\n",
    "            self.traverseBFS(q, visited,s)\n",
    "\n",
    "    def BFS(self, s): \n",
    "  \n",
    "        visited = [False] * (len(self.graph)) \n",
    "  \n",
    "        queue = [] \n",
    "    \n",
    "        queue.append(s) \n",
    "        visited[s] = True\n",
    "        \n",
    "        self.traverseBFS(queue, visited,s)"
   ]
  },
  {
   "cell_type": "code",
   "execution_count": 41,
   "metadata": {},
   "outputs": [],
   "source": [
    "def read_from_file(file_name):\n",
    "    data = pd.read_excel(file_name)\n",
    "    root = int(data.columns[1])\n",
    "    i = 2\n",
    "    nodes = []\n",
    "    neigbours = []\n",
    "    while i < data.shape[0]:\n",
    "        nodes.append(int(data[data.columns[0]][i]))\n",
    "        neigbours.append(int(data[data.columns[1]][i]))\n",
    "        i += 1\n",
    "    g = myGraph() \n",
    "    for i in range(len(nodes)):\n",
    "        g.addEdge(nodes[i]-1, neigbours[i]-1)\n",
    "    return g, root"
   ]
  },
  {
   "cell_type": "code",
   "execution_count": 42,
   "metadata": {},
   "outputs": [
    {
     "name": "stdout",
     "output_type": "stream",
     "text": [
      "1\n",
      "3\n",
      "4\n",
      "5\n",
      "6\n",
      "7\n",
      "8\n",
      "9\n",
      "************\n",
      "1\n",
      "3\n"
     ]
    }
   ],
   "source": [
    "g, root =  read_from_file(\"Graph_data.XLS\")\n",
    "g.DFS(root) \n",
    "print(\"************\")\n",
    "g.BFS(root)"
   ]
  }
 ],
 "metadata": {
  "kernelspec": {
   "display_name": "Python 3",
   "language": "python",
   "name": "python3"
  },
  "language_info": {
   "codemirror_mode": {
    "name": "ipython",
    "version": 3
   },
   "file_extension": ".py",
   "mimetype": "text/x-python",
   "name": "python",
   "nbconvert_exporter": "python",
   "pygments_lexer": "ipython3",
   "version": "3.6.6"
  }
 },
 "nbformat": 4,
 "nbformat_minor": 2
}
