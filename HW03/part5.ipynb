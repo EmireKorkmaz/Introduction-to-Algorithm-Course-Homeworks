{
 "cells": [
  {
   "cell_type": "markdown",
   "metadata": {},
   "source": [
    "In this function checked given string's characters if it is fit with the given pattern<br>\n",
    "if it is fit, I printed a success message on the screen. If it is not, I printed an error message on the screen."
   ]
  },
  {
   "cell_type": "code",
   "execution_count": 1,
   "metadata": {},
   "outputs": [],
   "source": [
    "myDict = {'A':'to', 'B':'be', 'C' :'or', 'D' :'not'}"
   ]
  },
  {
   "cell_type": "code",
   "execution_count": 2,
   "metadata": {},
   "outputs": [],
   "source": [
    "def fun(str, pattern):\n",
    "\n",
    "    if((len(str)>0) and str.startswith(myDict[pattern[0]])):\n",
    "        length = len(myDict[pattern[0]])\n",
    "        fun(str[length:], pattern[1:])\n",
    "    elif(len(str)==0):\n",
    "        print(\"Given pattern is valid on a given string\")\n",
    "    else:\n",
    "        print(\"Given pattern is not valid on a given string\")"
   ]
  },
  {
   "cell_type": "markdown",
   "metadata": {},
   "source": [
    "<strong> str : </strong> string to check is valid or not.<br>\n",
    "<strong> pattern : </strong> pattern to be searched."
   ]
  },
  {
   "cell_type": "code",
   "execution_count": 3,
   "metadata": {},
   "outputs": [
    {
     "name": "stdout",
     "output_type": "stream",
     "text": [
      "Given pattern is valid on a given string\n"
     ]
    }
   ],
   "source": [
    "str = \"tobeornottobe\"\n",
    "pattern = \"ABCDAB\"\n",
    "\n",
    "fun(str, pattern)\n"
   ]
  }
 ],
 "metadata": {
  "kernelspec": {
   "display_name": "Python 3",
   "language": "python",
   "name": "python3"
  },
  "language_info": {
   "codemirror_mode": {
    "name": "ipython",
    "version": 3
   },
   "file_extension": ".py",
   "mimetype": "text/x-python",
   "name": "python",
   "nbconvert_exporter": "python",
   "pygments_lexer": "ipython3",
   "version": "3.6.6"
  }
 },
 "nbformat": 4,
 "nbformat_minor": 2
}
